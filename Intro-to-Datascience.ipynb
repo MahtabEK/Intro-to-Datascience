{
 "cells": [
  {
   "cell_type": "code",
   "execution_count": 1,
   "metadata": {},
   "outputs": [],
   "source": [
    "import matplotlib\n",
    "import matplotlib.pyplot as plt \n",
    "%matplotlib inline\n",
    "import scipy.stats as ss\n",
    "import pandas as pd \n",
    "import numpy as np\n",
    "import seaborn as sns\n",
    "from statsmodels.formula.api import ols\n",
    "\n",
    "from sklearn.model_selection import train_test_split, cross_val_score\n",
    "from sklearn.pipeline import Pipeline\n",
    "from sklearn.linear_model import LinearRegression\n",
    "from sklearn.preprocessing import PolynomialFeatures\n",
    "from sklearn.dummy import DummyRegressor\n",
    "from sklearn.metrics import make_scorer, mean_absolute_error\n",
    "from scipy.stats import t"
   ]
  },
  {
   "cell_type": "markdown",
   "metadata": {},
   "source": [
    "---\n",
    "## Data set \n",
    "The Child Health and Development Studies investigate a range of topics. One study considered all pregnancies between 1960 and 1967 among women in the Kaiser Foundation Health Plan in the San Francisco East Bay area.\n",
    "\n",
    "The data frame contains the following data, where each row represents a baby:\n",
    "\n",
    "- bwt: birth weight (ounces)\n",
    "- gestation: length of pregnancy (days)\n",
    "- parity: 0 if mom's first baby, 1 if not mom's first baby\n",
    "- age: mom's age (years)\n",
    "- height: mom's height (inches)\n",
    "- weight: mom's weight (pounds)\n",
    "- smoke: 0 if mom is nonsmoker, 1 if mom is smoker\n",
    "\n"
   ]
  },
  {
   "cell_type": "code",
   "execution_count": 2,
   "metadata": {},
   "outputs": [
    {
     "data": {
      "text/html": [
       "<div>\n",
       "<style scoped>\n",
       "    .dataframe tbody tr th:only-of-type {\n",
       "        vertical-align: middle;\n",
       "    }\n",
       "\n",
       "    .dataframe tbody tr th {\n",
       "        vertical-align: top;\n",
       "    }\n",
       "\n",
       "    .dataframe thead th {\n",
       "        text-align: right;\n",
       "    }\n",
       "</style>\n",
       "<table border=\"1\" class=\"dataframe\">\n",
       "  <thead>\n",
       "    <tr style=\"text-align: right;\">\n",
       "      <th></th>\n",
       "      <th>bwt</th>\n",
       "      <th>gestation</th>\n",
       "      <th>parity</th>\n",
       "      <th>age</th>\n",
       "      <th>height</th>\n",
       "      <th>weight</th>\n",
       "      <th>smoke</th>\n",
       "    </tr>\n",
       "  </thead>\n",
       "  <tbody>\n",
       "    <tr>\n",
       "      <th>0</th>\n",
       "      <td>120</td>\n",
       "      <td>284.0</td>\n",
       "      <td>0</td>\n",
       "      <td>27.0</td>\n",
       "      <td>62.0</td>\n",
       "      <td>100.0</td>\n",
       "      <td>0.0</td>\n",
       "    </tr>\n",
       "    <tr>\n",
       "      <th>1</th>\n",
       "      <td>113</td>\n",
       "      <td>282.0</td>\n",
       "      <td>0</td>\n",
       "      <td>33.0</td>\n",
       "      <td>64.0</td>\n",
       "      <td>135.0</td>\n",
       "      <td>0.0</td>\n",
       "    </tr>\n",
       "    <tr>\n",
       "      <th>2</th>\n",
       "      <td>128</td>\n",
       "      <td>279.0</td>\n",
       "      <td>0</td>\n",
       "      <td>28.0</td>\n",
       "      <td>64.0</td>\n",
       "      <td>115.0</td>\n",
       "      <td>1.0</td>\n",
       "    </tr>\n",
       "    <tr>\n",
       "      <th>4</th>\n",
       "      <td>108</td>\n",
       "      <td>282.0</td>\n",
       "      <td>0</td>\n",
       "      <td>23.0</td>\n",
       "      <td>67.0</td>\n",
       "      <td>125.0</td>\n",
       "      <td>1.0</td>\n",
       "    </tr>\n",
       "    <tr>\n",
       "      <th>5</th>\n",
       "      <td>136</td>\n",
       "      <td>286.0</td>\n",
       "      <td>0</td>\n",
       "      <td>25.0</td>\n",
       "      <td>62.0</td>\n",
       "      <td>93.0</td>\n",
       "      <td>0.0</td>\n",
       "    </tr>\n",
       "  </tbody>\n",
       "</table>\n",
       "</div>"
      ],
      "text/plain": [
       "   bwt  gestation  parity   age  height  weight  smoke\n",
       "0  120      284.0       0  27.0    62.0   100.0    0.0\n",
       "1  113      282.0       0  33.0    64.0   135.0    0.0\n",
       "2  128      279.0       0  28.0    64.0   115.0    1.0\n",
       "4  108      282.0       0  23.0    67.0   125.0    1.0\n",
       "5  136      286.0       0  25.0    62.0    93.0    0.0"
      ]
     },
     "execution_count": 2,
     "metadata": {},
     "output_type": "execute_result"
    }
   ],
   "source": [
    "df = pd.read_csv('babies.csv').drop('case',axis='columns').dropna()\n",
    "df.head()"
   ]
  },
  {
   "cell_type": "markdown",
   "metadata": {},
   "source": [
    "\n",
    "## Prediction\n",
    "\n",
    "This task will focus on building predictive models for birth weight based on the available data."
   ]
  },
  {
   "cell_type": "markdown",
   "metadata": {},
   "source": [
    "---\n",
    "### Visualizing the Outcome\n",
    "\n",
    "Produce a plot that visualizes the marginal distribution of birth weight."
   ]
  },
  {
   "cell_type": "code",
   "execution_count": 3,
   "metadata": {},
   "outputs": [
    {
     "data": {
      "text/plain": [
       "<matplotlib.axes._subplots.AxesSubplot at 0x2bd595b5438>"
      ]
     },
     "execution_count": 3,
     "metadata": {},
     "output_type": "execute_result"
    },
    {
     "data": {
      "image/png": "[encoded data removed]",
      "text/plain": [
       "<Figure size 432x288 with 1 Axes>"
      ]
     },
     "metadata": {
      "needs_background": "light"
     },
     "output_type": "display_data"
    }
   ],
   "source": [
    "df.bwt.hist()"
   ]
  },
  {
   "cell_type": "markdown",
   "metadata": {},
   "source": [
    "---\n",
    "### Loss Functions\n",
    "\n",
    "Define two loss functions, one that measures the absolute difference between observations and predictions, and one that gives \"0\" if the absolute difference is less than or equal to a threshold `thresh`, and \"1\" otherwise. (Essentially, the mean of this loss counts the proportion of predictions that within `thresh` distance of the observations.)\n",
    "\n",
    "*Return the mean and the standard deviation of the losses.* "
   ]
  },
  {
   "cell_type": "code",
   "execution_count": 4,
   "metadata": {},
   "outputs": [
    {
     "name": "stdout",
     "output_type": "stream",
     "text": [
      "(0.4, 0.5477225575051662)\n"
     ]
    }
   ],
   "source": [
    "def abs_diff_loss(obs, pred):\n",
    "    \n",
    "    resids = abs(pred-obs)\n",
    "    return resids.mean(), resids.std(ddof=1)\n",
    "    \n",
    "def threshold_loss(obs, pred, thresh):\n",
    "    \n",
    "    resids = abs(obs-pred)>thresh\n",
    "    resids = resids.astype(int)\n",
    "    return resids.mean(), resids.std(ddof=1)\n",
    "    \n",
    "\n",
    "results = threshold_loss(np.arange(1,6), np.arange(5,0, -1), 2)\n",
    "print(results)\n",
    "    "
   ]
  },
  {
   "cell_type": "markdown",
   "metadata": {},
   "source": [
    "Suppose you are using the absolute loss to measure performance of a model for predicting birth weight using the data we have provided.. If you wanted to set a test set aside for evaluation, how much data should you allocate for testing if you want to evaluate the performance of our predictor to within +/- 4 units of loss with 95% confidence? Provide code that computes the amount of data."
   ]
  },
  {
   "cell_type": "code",
   "execution_count": 5,
   "metadata": {},
   "outputs": [
    {
     "name": "stdout",
     "output_type": "stream",
     "text": [
      "34.0\n"
     ]
    }
   ],
   "source": [
    "pred = df.bwt.median()\n",
    "mu, sigma = abs_diff_loss(pred, df.bwt)\n",
    "n_abs_loss = np.ceil((2*sigma/4)**2)\n",
    "\n",
    "print(n_abs_loss)"
   ]
  },
  {
   "cell_type": "markdown",
   "metadata": {},
   "source": [
    "Suppose you are using the threshold loss with a cutoff of 4 to measure performance of a model for predicting birth weight using the data we have provided. If you wanted to set a test set aside for evaluation, how much data should you allocate for testing if you want to evaluate the performance of our predictor to within +/- 0.05 of the actual generalization performance with 95% confidence? Provide code that computes the amount of data."
   ]
  },
  {
   "cell_type": "code",
   "execution_count": 6,
   "metadata": {},
   "outputs": [
    {
     "name": "stdout",
     "output_type": "stream",
     "text": [
      "400.0\n"
     ]
    }
   ],
   "source": [
    "max_sigma = 0.5\n",
    "n_thresh = np.ceil((2*max_sigma/0.05)**2)\n",
    "print(n_thresh)"
   ]
  },
  {
   "cell_type": "markdown",
   "metadata": {},
   "source": [
    "The standard deviation of a binary random variale is $\\sqrt{p(1-p)}$ , where  𝑝  is the fraction of observations equal to 1. The largest this can be is 0.5. "
   ]
  },
  {
   "cell_type": "markdown",
   "metadata": {},
   "source": [
    "### Test Split\n",
    "\n",
    "Set aside some amount of data for testing, and retain the rest for training."
   ]
  },
  {
   "cell_type": "code",
   "execution_count": 7,
   "metadata": {},
   "outputs": [],
   "source": [
    "X = df.drop('bwt', axis = 'columns').values\n",
    "y = df.bwt.values\n",
    "\n",
    "Xtrain, Xtest, ytrain, ytest = train_test_split(X,\n",
    "                                                y, \n",
    "                                                test_size = int(n_abs_loss),\n",
    "                                                random_state = 19920908)"
   ]
  },
  {
   "cell_type": "markdown",
   "metadata": {},
   "source": [
    "## Simple Linear Model\n",
    "\n",
    "Using Ordinary Least Squares, build a model to predict birth weight as a linear function of the other variables in the data."
   ]
  },
  {
   "cell_type": "code",
   "execution_count": 8,
   "metadata": {},
   "outputs": [],
   "source": [
    "simple_model = Pipeline([\n",
    "    ('linear_regression', LinearRegression())])"
   ]
  },
  {
   "cell_type": "markdown",
   "metadata": {},
   "source": [
    "### More Complex Model\n",
    "\n",
    "Again using Ordinary Least Squares, develop second a model that has lower training error than the simple model."
   ]
  },
  {
   "cell_type": "code",
   "execution_count": 9,
   "metadata": {},
   "outputs": [],
   "source": [
    "complex_model = Pipeline([\n",
    "    ('poly', PolynomialFeatures(degree=2, include_bias = False)),\n",
    "    ('linear_regression', LinearRegression())\n",
    "])"
   ]
  },
  {
   "cell_type": "markdown",
   "metadata": {},
   "source": [
    "## Model Selection\n",
    "\n",
    "Use cross-validation to compare the two model spaces to select the one you think will result in the smallest generalization error for one of the loss functions you defined above."
   ]
  },
  {
   "cell_type": "code",
   "execution_count": 10,
   "metadata": {},
   "outputs": [
    {
     "name": "stdout",
     "output_type": "stream",
     "text": [
      "Simple model cv: 12.366245052688436\n",
      "Complex Model: 12.383314800178875\n"
     ]
    }
   ],
   "source": [
    "simple_cv = cross_val_score(simple_model, \n",
    "                            Xtrain, \n",
    "                            ytrain, \n",
    "                            cv = 5, \n",
    "                            scoring=make_scorer(mean_absolute_error))\n",
    "\n",
    "\n",
    "print('Simple model cv:', simple_cv.mean())\n",
    "\n",
    "complex_cv = cross_val_score(complex_model, \n",
    "                            Xtrain, \n",
    "                            ytrain, \n",
    "                            cv = 5, \n",
    "                            scoring=make_scorer(mean_absolute_error))\n",
    "\n",
    "print('Complex Model:', complex_cv.mean())"
   ]
  },
  {
   "cell_type": "markdown",
   "metadata": {},
   "source": [
    "### Evaluation, Absolute Value, Normal approximation confidence interval\n",
    "\n",
    "Provide a point estimate for the generalization error of your chosen model using the absolute difference loss. Also provide a 95% confidence interval for the true generalization error under this loss. Construct the interval using a normal approximation."
   ]
  },
  {
   "cell_type": "code",
   "execution_count": 11,
   "metadata": {},
   "outputs": [
    {
     "data": {
      "text/plain": [
       "array([10.97604887, 14.57197765, 18.16790642])"
      ]
     },
     "execution_count": 11,
     "metadata": {},
     "output_type": "execute_result"
    }
   ],
   "source": [
    "complex_model.fit(Xtrain, ytrain)\n",
    "preds = complex_model.predict(Xtest)\n",
    "mu, sigma = abs_diff_loss(ytest, preds)\n",
    "\n",
    "tcrit = t.ppf(0.975, df=n_abs_loss-1)\n",
    "radius = tcrit*sigma/np.sqrt(n_abs_loss)\n",
    "\n",
    "np.arange(-1,2)*radius + mu"
   ]
  },
  {
   "cell_type": "markdown",
   "metadata": {},
   "source": [
    "### Evaluation, Threshold, Bootstrap approximation confidence interval\n",
    "\n",
    "Provide a point estimate for the generalization error of your model using the threshold loss with a threshold of 4. Also provide a 95% confidence interval for the true generalization error under this loss. Construct the interval using the bootstrap."
   ]
  },
  {
   "cell_type": "code",
   "execution_count": 13,
   "metadata": {},
   "outputs": [
    {
     "name": "stdout",
     "output_type": "stream",
     "text": [
      "[0.67647059 0.82352941 0.94117647]\n"
     ]
    }
   ],
   "source": [
    "numits = 10000\n",
    "thresh = 4\n",
    "bootstrap_loss=np.zeros(numits)\n",
    "complex_model.fit(Xtrain, ytrain)\n",
    "\n",
    "\n",
    "for i in range(numits):\n",
    "    ix = np.random.randint(low=0, high = int(n_abs_loss), size = int(n_abs_loss))\n",
    "\n",
    "    xboot = Xtest[ix]\n",
    "    yboot = ytest[ix]\n",
    "    ypreds = complex_model.predict(xboot)\n",
    "    mu, sigma = threshold_loss(yboot, ypreds, thresh)\n",
    "    bootstrap_loss[i]=mu\n",
    "    \n",
    "interval_estimate = np.quantile(bootstrap_loss, [0.025, 0.5, 0.975])\n",
    "\n",
    "print(interval_estimate)\n"
   ]
  },
  {
   "cell_type": "markdown",
   "metadata": {},
   "source": [
    "## Inference"
   ]
  },
  {
   "cell_type": "markdown",
   "metadata": {},
   "source": [
    "### Association between Smoking and Birth Weight \n",
    "\n",
    "Conduct a statistical analysis that shows whether the data provide substantial evidence that smoking is associated with a difference in average birth weight if we ignore all other variables."
   ]
  },
  {
   "cell_type": "code",
   "execution_count": 14,
   "metadata": {},
   "outputs": [
    {
     "data": {
      "text/html": [
       "<table class=\"simpletable\">\n",
       "<caption>OLS Regression Results</caption>\n",
       "<tr>\n",
       "  <th>Dep. Variable:</th>           <td>bwt</td>       <th>  R-squared:         </th> <td>   0.061</td> \n",
       "</tr>\n",
       "<tr>\n",
       "  <th>Model:</th>                   <td>OLS</td>       <th>  Adj. R-squared:    </th> <td>   0.060</td> \n",
       "</tr>\n",
       "<tr>\n",
       "  <th>Method:</th>             <td>Least Squares</td>  <th>  F-statistic:       </th> <td>   76.02</td> \n",
       "</tr>\n",
       "<tr>\n",
       "  <th>Date:</th>             <td>Wed, 14 Oct 2020</td> <th>  Prob (F-statistic):</th> <td>9.46e-18</td> \n",
       "</tr>\n",
       "<tr>\n",
       "  <th>Time:</th>                 <td>19:05:13</td>     <th>  Log-Likelihood:    </th> <td> -5043.0</td> \n",
       "</tr>\n",
       "<tr>\n",
       "  <th>No. Observations:</th>      <td>  1174</td>      <th>  AIC:               </th> <td>1.009e+04</td>\n",
       "</tr>\n",
       "<tr>\n",
       "  <th>Df Residuals:</th>          <td>  1172</td>      <th>  BIC:               </th> <td>1.010e+04</td>\n",
       "</tr>\n",
       "<tr>\n",
       "  <th>Df Model:</th>              <td>     1</td>      <th>                     </th>     <td> </td>    \n",
       "</tr>\n",
       "<tr>\n",
       "  <th>Covariance Type:</th>      <td>nonrobust</td>    <th>                     </th>     <td> </td>    \n",
       "</tr>\n",
       "</table>\n",
       "<table class=\"simpletable\">\n",
       "<tr>\n",
       "      <td></td>         <th>coef</th>     <th>std err</th>      <th>t</th>      <th>P>|t|</th>  <th>[0.025</th>    <th>0.975]</th>  \n",
       "</tr>\n",
       "<tr>\n",
       "  <th>Intercept</th> <td>  123.0853</td> <td>    0.665</td> <td>  185.221</td> <td> 0.000</td> <td>  121.782</td> <td>  124.389</td>\n",
       "</tr>\n",
       "<tr>\n",
       "  <th>smoke</th>     <td>   -9.2661</td> <td>    1.063</td> <td>   -8.719</td> <td> 0.000</td> <td>  -11.351</td> <td>   -7.181</td>\n",
       "</tr>\n",
       "</table>\n",
       "<table class=\"simpletable\">\n",
       "<tr>\n",
       "  <th>Omnibus:</th>       <td>12.420</td> <th>  Durbin-Watson:     </th> <td>   2.044</td>\n",
       "</tr>\n",
       "<tr>\n",
       "  <th>Prob(Omnibus):</th> <td> 0.002</td> <th>  Jarque-Bera (JB):  </th> <td>  17.215</td>\n",
       "</tr>\n",
       "<tr>\n",
       "  <th>Skew:</th>          <td>-0.103</td> <th>  Prob(JB):          </th> <td>0.000183</td>\n",
       "</tr>\n",
       "<tr>\n",
       "  <th>Kurtosis:</th>      <td> 3.557</td> <th>  Cond. No.          </th> <td>    2.44</td>\n",
       "</tr>\n",
       "</table><br/><br/>Warnings:<br/>[1] Standard Errors assume that the covariance matrix of the errors is correctly specified."
      ],
      "text/plain": [
       "<class 'statsmodels.iolib.summary.Summary'>\n",
       "\"\"\"\n",
       "                            OLS Regression Results                            \n",
       "==============================================================================\n",
       "Dep. Variable:                    bwt   R-squared:                       0.061\n",
       "Model:                            OLS   Adj. R-squared:                  0.060\n",
       "Method:                 Least Squares   F-statistic:                     76.02\n",
       "Date:                Wed, 14 Oct 2020   Prob (F-statistic):           9.46e-18\n",
       "Time:                        19:05:13   Log-Likelihood:                -5043.0\n",
       "No. Observations:                1174   AIC:                         1.009e+04\n",
       "Df Residuals:                    1172   BIC:                         1.010e+04\n",
       "Df Model:                           1                                         \n",
       "Covariance Type:            nonrobust                                         \n",
       "==============================================================================\n",
       "                 coef    std err          t      P>|t|      [0.025      0.975]\n",
       "------------------------------------------------------------------------------\n",
       "Intercept    123.0853      0.665    185.221      0.000     121.782     124.389\n",
       "smoke         -9.2661      1.063     -8.719      0.000     -11.351      -7.181\n",
       "==============================================================================\n",
       "Omnibus:                       12.420   Durbin-Watson:                   2.044\n",
       "Prob(Omnibus):                  0.002   Jarque-Bera (JB):               17.215\n",
       "Skew:                          -0.103   Prob(JB):                     0.000183\n",
       "Kurtosis:                       3.557   Cond. No.                         2.44\n",
       "==============================================================================\n",
       "\n",
       "Warnings:\n",
       "[1] Standard Errors assume that the covariance matrix of the errors is correctly specified.\n",
       "\"\"\""
      ]
     },
     "execution_count": 14,
     "metadata": {},
     "output_type": "execute_result"
    }
   ],
   "source": [
    "ols('bwt~smoke', data = df).fit().summary()"
   ]
  },
  {
   "cell_type": "markdown",
   "metadata": {},
   "source": [
    "Null hypohtesis is no association. We reject the null hypothesis at the 5% alpha level. From the data we have obtained, there seems to be an association between smoking and birthweight."
   ]
  },
  {
   "cell_type": "markdown",
   "metadata": {},
   "source": [
    "### Causality between Smoking and Birth Weight (X / 10pt)\n",
    "\n",
    "Does this analysis prove that smoking causes reduced birth weight? "
   ]
  },
  {
   "cell_type": "markdown",
   "metadata": {},
   "source": [
    "No. Analysis does not account for potential confounders."
   ]
  },
  {
   "cell_type": "markdown",
   "metadata": {},
   "source": [
    "### Association between Smoking and Birth Weight (X / 10pt)\n",
    "\n",
    "Conduct a statistical analysis that shows whether the data provide substantial evidence that smoking is associated with a change birth weight if we account for the other measured variables using a linear model."
   ]
  },
  {
   "cell_type": "code",
   "execution_count": 15,
   "metadata": {},
   "outputs": [
    {
     "data": {
      "text/html": [
       "<table class=\"simpletable\">\n",
       "<caption>OLS Regression Results</caption>\n",
       "<tr>\n",
       "  <th>Dep. Variable:</th>           <td>bwt</td>       <th>  R-squared:         </th> <td>   0.258</td>\n",
       "</tr>\n",
       "<tr>\n",
       "  <th>Model:</th>                   <td>OLS</td>       <th>  Adj. R-squared:    </th> <td>   0.254</td>\n",
       "</tr>\n",
       "<tr>\n",
       "  <th>Method:</th>             <td>Least Squares</td>  <th>  F-statistic:       </th> <td>   67.61</td>\n",
       "</tr>\n",
       "<tr>\n",
       "  <th>Date:</th>             <td>Wed, 14 Oct 2020</td> <th>  Prob (F-statistic):</th> <td>2.87e-72</td>\n",
       "</tr>\n",
       "<tr>\n",
       "  <th>Time:</th>                 <td>19:06:32</td>     <th>  Log-Likelihood:    </th> <td> -4904.7</td>\n",
       "</tr>\n",
       "<tr>\n",
       "  <th>No. Observations:</th>      <td>  1174</td>      <th>  AIC:               </th> <td>   9823.</td>\n",
       "</tr>\n",
       "<tr>\n",
       "  <th>Df Residuals:</th>          <td>  1167</td>      <th>  BIC:               </th> <td>   9859.</td>\n",
       "</tr>\n",
       "<tr>\n",
       "  <th>Df Model:</th>              <td>     6</td>      <th>                     </th>     <td> </td>   \n",
       "</tr>\n",
       "<tr>\n",
       "  <th>Covariance Type:</th>      <td>nonrobust</td>    <th>                     </th>     <td> </td>   \n",
       "</tr>\n",
       "</table>\n",
       "<table class=\"simpletable\">\n",
       "<tr>\n",
       "      <td></td>         <th>coef</th>     <th>std err</th>      <th>t</th>      <th>P>|t|</th>  <th>[0.025</th>    <th>0.975]</th>  \n",
       "</tr>\n",
       "<tr>\n",
       "  <th>Intercept</th> <td>  -80.4109</td> <td>   14.347</td> <td>   -5.605</td> <td> 0.000</td> <td> -108.559</td> <td>  -52.263</td>\n",
       "</tr>\n",
       "<tr>\n",
       "  <th>gestation</th> <td>    0.4440</td> <td>    0.029</td> <td>   15.258</td> <td> 0.000</td> <td>    0.387</td> <td>    0.501</td>\n",
       "</tr>\n",
       "<tr>\n",
       "  <th>parity</th>    <td>   -3.3272</td> <td>    1.129</td> <td>   -2.947</td> <td> 0.003</td> <td>   -5.542</td> <td>   -1.112</td>\n",
       "</tr>\n",
       "<tr>\n",
       "  <th>age</th>       <td>   -0.0090</td> <td>    0.086</td> <td>   -0.104</td> <td> 0.917</td> <td>   -0.177</td> <td>    0.159</td>\n",
       "</tr>\n",
       "<tr>\n",
       "  <th>height</th>    <td>    1.1540</td> <td>    0.205</td> <td>    5.629</td> <td> 0.000</td> <td>    0.752</td> <td>    1.556</td>\n",
       "</tr>\n",
       "<tr>\n",
       "  <th>weight</th>    <td>    0.0502</td> <td>    0.025</td> <td>    1.987</td> <td> 0.047</td> <td>    0.001</td> <td>    0.100</td>\n",
       "</tr>\n",
       "<tr>\n",
       "  <th>smoke</th>     <td>   -8.4007</td> <td>    0.954</td> <td>   -8.807</td> <td> 0.000</td> <td>  -10.272</td> <td>   -6.529</td>\n",
       "</tr>\n",
       "</table>\n",
       "<table class=\"simpletable\">\n",
       "<tr>\n",
       "  <th>Omnibus:</th>       <td> 6.574</td> <th>  Durbin-Watson:     </th> <td>   2.061</td>\n",
       "</tr>\n",
       "<tr>\n",
       "  <th>Prob(Omnibus):</th> <td> 0.037</td> <th>  Jarque-Bera (JB):  </th> <td>   8.427</td>\n",
       "</tr>\n",
       "<tr>\n",
       "  <th>Skew:</th>          <td> 0.029</td> <th>  Prob(JB):          </th> <td>  0.0148</td>\n",
       "</tr>\n",
       "<tr>\n",
       "  <th>Kurtosis:</th>      <td> 3.411</td> <th>  Cond. No.          </th> <td>9.80e+03</td>\n",
       "</tr>\n",
       "</table><br/><br/>Warnings:<br/>[1] Standard Errors assume that the covariance matrix of the errors is correctly specified.<br/>[2] The condition number is large, 9.8e+03. This might indicate that there are<br/>strong multicollinearity or other numerical problems."
      ],
      "text/plain": [
       "<class 'statsmodels.iolib.summary.Summary'>\n",
       "\"\"\"\n",
       "                            OLS Regression Results                            \n",
       "==============================================================================\n",
       "Dep. Variable:                    bwt   R-squared:                       0.258\n",
       "Model:                            OLS   Adj. R-squared:                  0.254\n",
       "Method:                 Least Squares   F-statistic:                     67.61\n",
       "Date:                Wed, 14 Oct 2020   Prob (F-statistic):           2.87e-72\n",
       "Time:                        19:06:32   Log-Likelihood:                -4904.7\n",
       "No. Observations:                1174   AIC:                             9823.\n",
       "Df Residuals:                    1167   BIC:                             9859.\n",
       "Df Model:                           6                                         \n",
       "Covariance Type:            nonrobust                                         \n",
       "==============================================================================\n",
       "                 coef    std err          t      P>|t|      [0.025      0.975]\n",
       "------------------------------------------------------------------------------\n",
       "Intercept    -80.4109     14.347     -5.605      0.000    -108.559     -52.263\n",
       "gestation      0.4440      0.029     15.258      0.000       0.387       0.501\n",
       "parity        -3.3272      1.129     -2.947      0.003      -5.542      -1.112\n",
       "age           -0.0090      0.086     -0.104      0.917      -0.177       0.159\n",
       "height         1.1540      0.205      5.629      0.000       0.752       1.556\n",
       "weight         0.0502      0.025      1.987      0.047       0.001       0.100\n",
       "smoke         -8.4007      0.954     -8.807      0.000     -10.272      -6.529\n",
       "==============================================================================\n",
       "Omnibus:                        6.574   Durbin-Watson:                   2.061\n",
       "Prob(Omnibus):                  0.037   Jarque-Bera (JB):                8.427\n",
       "Skew:                           0.029   Prob(JB):                       0.0148\n",
       "Kurtosis:                       3.411   Cond. No.                     9.80e+03\n",
       "==============================================================================\n",
       "\n",
       "Warnings:\n",
       "[1] Standard Errors assume that the covariance matrix of the errors is correctly specified.\n",
       "[2] The condition number is large, 9.8e+03. This might indicate that there are\n",
       "strong multicollinearity or other numerical problems.\n",
       "\"\"\""
      ]
     },
     "execution_count": 15,
     "metadata": {},
     "output_type": "execute_result"
    }
   ],
   "source": [
    "var = ' + '.join([j for j in df.columns if j!= 'bwt'])\n",
    "ols(formula='bwt~'+var, data = df).fit().summary()"
   ]
  },
  {
   "cell_type": "markdown",
   "metadata": {},
   "source": [
    "Null hypohtesis is no association.  We reject the null hypothesis at the 5% alpha level.  From the data we have obtained, there seems to be an association between smoking and birthweight."
   ]
  },
  {
   "cell_type": "markdown",
   "metadata": {},
   "source": [
    "### Causality between Smoking and Birth Weight (X / 10pt)\n",
    "\n",
    "Does this analysis prove that smoking causes reduced birth weight?"
   ]
  },
  {
   "cell_type": "markdown",
   "metadata": {},
   "source": [
    "No. There may be unknown confounders"
   ]
  }
 ],
 "metadata": {
  "celltoolbar": "Edit Metadata",
  "kernelspec": {
   "display_name": "Python 3",
   "language": "python",
   "name": "python3"
  },
  "language_info": {
   "codemirror_mode": {
    "name": "ipython",
    "version": 3
   },
   "file_extension": ".py",
   "mimetype": "text/x-python",
   "name": "python",
   "nbconvert_exporter": "python",
   "pygments_lexer": "ipython3",
   "version": "3.7.3"
  }
 },
 "nbformat": 4,
 "nbformat_minor": 1
}
